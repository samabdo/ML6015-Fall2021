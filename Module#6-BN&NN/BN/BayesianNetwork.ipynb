{
 "cells": [
  {
   "cell_type": "markdown",
   "metadata": {},
   "source": [
    "# The Objectives\n",
    "\n",
    "1. Graphical model concepts\n",
    "    - Conditionally independence.\n",
    "    - Bayes theorm. \n",
    "    - Joint distributions.\n",
    "2. Bayesian Network\n",
    "3. Examples\n",
    "4. Pomegranate for Bayesian Network in Python\n"
   ]
  },
  {
   "attachments": {
    "image.png": {
     "image/png": "[encoded data removed]"
    }
   },
   "cell_type": "markdown",
   "metadata": {},
   "source": [
    "# [Graphical Model (GM)][1]\n",
    "\n",
    "\n",
    "In [probability theory][3], two random events $A$ and $B$ are conditionally independent given a third event $C$ precisely if the occurrence of $A$ and the occurrence of $B$ are independent events in their conditional probability distribution given $C$.\n",
    "![image.png](attachment:image.png)\n",
    "\n",
    "\n",
    "\n",
    " \n",
    "A graphical model or probablisitic graphical model (PGM) is a probabilistic model for which a graph expresses the conditional dependence structure between random variables. [Probabilistic graphical models][2] are graphs in which nodes represent random variables, and the (lack of) arcs represent conditional independence assumptions. Hence they provide a compact representation of joint probability distributions.\n",
    "\n",
    "An example of <b><u> directed cyclic graphs (DAGs) </u></b>. Each arrow indicates a dependency. In this example: D depends on A, B, and C; and C depends on B and D; whereas A and B are each independent (See the figure)\n",
    "\n",
    "<img style=\"float:center\" src=\"./GM.png\" alt=\"drawing\" height=\"200\" width=\"200\"/>\n",
    "\n",
    "\n",
    "\n",
    "[1]:https://en.wikipedia.org/wiki/Graphical_model\n",
    "[2]:https://www.cs.ubc.ca/~murphyk/Bayes/bnintro.html#repr\n",
    "[3]:https://en.wikipedia.org/wiki/Conditional_independence"
   ]
  },
  {
   "cell_type": "markdown",
   "metadata": {},
   "source": [
    "# [Bayesian Network][1] \n",
    "\n",
    "Let us go through this example [this example][2]\n",
    "\n",
    "A Bayesian Network is a\n",
    "1. Directed acyclic graph (DAG) where each node represents a random variable (RV) Xi\n",
    "3. For each node, we have a conditional probability distribution $p(X_{i}|parents(X_{i}))$\n",
    "3. In the simplest case (discrete RVs), the conditional distribution is represented as a conditional probability table (CPT).\n",
    "\n",
    "<br/>\n",
    "\n",
    "## [Bayes Nets & conditional independence][3]\n",
    "\n",
    "\n",
    "<b>Independence</b>: $p(X,Y)=P(X)p(Y)$ <br/>\n",
    "<b>Conditional independence</b>: $p(X,Y|Z)=p(X|Z)p(Y|Z)$ \n",
    "\n",
    "\n",
    "## Bayes Nets & joint probabilities & chain rule:\n",
    "\n",
    "Recall that by the chain rule, we can write any joint probability $p$ as: <br/><br/>\n",
    "\n",
    "<center> $\\large p(x_{1},x_{2},\\dots,x_{n})=p(x_{1})p(x_{2}|x_{1})p(x_{3}|x_{1},x_{2})\\dots p(x_{n}|x_{n-1},\\dots,x_{3}x_{2}x_{1})$</center>\n",
    "\n",
    "\n",
    "\n",
    "## Bayes Nets & Bayes theorem:\n",
    "\n",
    "Given $X$ and $Y$  are two events (class and observation)\n",
    "\n",
    "<center> $\\large p(X|Y)=\\large \\frac{p(X,Y)}{p(Y)}$  </center>\n",
    "\n",
    "$p(X|Y)$ is a conditional probability named the posterior probability.\n",
    "\n",
    "$p(X,Y)=p(Y|X)p(X)$ is joint probability.\n",
    "\n",
    "$p(Y|X)$ is a conditional probability named the likelihood probability.\n",
    "\n",
    "$p(Y)$ and $p(X)$  are marginal probabilities but $p(Y)$ is evidence  and $p(X)$ prior probability.\n",
    "\n",
    "\n",
    "\n",
    "## Possible dependencies:\n",
    "\n",
    "\n",
    "<img style=\"float:center\" src=\"./IndependenceXYZ.png\" alt=\"drawing\" height=\"200\" width=\"400\"/>\n",
    "\n",
    "\n",
    "Head-to-head: Indep(X, Y )      \n",
    "$P(X,Y,Z) = P(X)P(Y) P(Z|X,Y)$   \n",
    "$P(X, Y) = P(X)P(Y)\\sum_{z}{P(Z|X,Y)} = P(X)P(Y)$.       \n",
    "\n",
    "\n",
    "\n",
    "Tail-to-tail: Indep(X, Y |Z)    \n",
    "$P(X,Y,Z)= P(Z)P(X|Z)P(Y|Z)$       \n",
    "$P(X,Y|Z)=\\frac{P(X,Y,Z)}{P(Z)}=P(X|Z)P(Y|Z)$      \n",
    "\n",
    "\n",
    "\n",
    "\n",
    "Head-to-tail: Indep(X, Y |Z)    \n",
    "$P(X,Y,Z) = P(X)P(Z|X)P(Y|Z)$    \n",
    "$P(X,Y|Z) = \\frac{P(X,Y,Z)}{P(Z)}=\\frac{P(X,Z)P(Y|Z)}{P(Z)}$   \n",
    "\n",
    "\n",
    "\n",
    "[1]:https://ermongroup.github.io/cs228-notes/representation/directed/\n",
    "[2]:https://www.youtube.com/watch?v=4fcqyzVJwHM\n",
    "[3]:https://ipvs.informatik.uni-stuttgart.de/mlr/marc/teaching/15-MachineLearning/07-graphicalModels.pdf"
   ]
  },
  {
   "cell_type": "markdown",
   "metadata": {},
   "source": [
    "\n",
    "## [Example of Bayes Nets and joint probability:][5]\n",
    "\n",
    "\n",
    "In the following figure, obtain $p(A,B,C,D,E,F)$ by the chain rule:\n",
    "\n",
    "<img style=\"float:center\" src=\"./BNEx.png\" alt=\"drawing\" height=\"100\" width=\"200\"/>\n",
    "\n",
    "\n",
    "### Solution:\n",
    "\n",
    "<img style=\"float:center\" src=\"./jointprob.png\" alt=\"drawing\" height=\"300\" width=\"500\"/>\n",
    "\n",
    "[5]:http://www.cse.unsw.edu.au/~cs9417ml/Bayes/Pages/Bayesian_Networks_Definition.html"
   ]
  },
  {
   "cell_type": "markdown",
   "metadata": {},
   "source": [
    "# [Example (Sprinkler/Grass Wet/Rain)][1]\n",
    "\n",
    "1. Two events can cause grass(G) to be wet: an active sprinkler(S) or rain (R). \n",
    "2. Rain has a direct effect on the use of the sprinkler (namely that when it rains, the sprinkler usually is not active).\n",
    "\n",
    "\n",
    "## [In the training dataset:][2]\n",
    "\n",
    "1. Find out the random variables-- here we have three variables.\n",
    "2. Sort the variables and build Bayesian Network.\n",
    "3. Build Conditional Probability Table (CPT) in the below figure.\n",
    " - Using domain expert or \n",
    " - Using the data\n",
    "\n",
    "<img style=\"float:center\" src=\"./SRG.png\" alt=\"drawing\" height=\"100\" width=\"500\"/>\n",
    "\n",
    "\n",
    "## In the test dataset:\n",
    "\n",
    "We may answer the following queries:\n",
    "1. What is P(G,S,R)?\n",
    " - Answer: we need to calculate: $P(G,S,R)=P(G|S,R)P(S|R)P(R)$ for every $G,S,R\\in \\{T,F\\}$ </br>\n",
    "    - Example: $P(G=T,S=T,R=T)=P(G=T|S=T,R=T)P(S=T|R=T)p(R=T)=0.99x0.01x0.2=0.00198$\n",
    "2. Given G=T, what is the probility that $R$ is $T$? == $P(R=T|G=T)$\n",
    "    - Answer: <br/>\n",
    "<center>$P(R=T|G=T)=\\large \\frac{P(G=T,R=T)}{P(G=T)}=\\frac{\\sum_{S\\in\\{T,F\\}}P(G=T,S,R=T)}{\\sum_{S,R\\in\\{T,F\\}}P(G=T,S,R)}$ </center> <br/>\n",
    "    - To complete the answer, goto to [this link][1]\n",
    "3. More complicated queries that depends on variable elimination algorithms and non-exact matching inference.\n",
    "\n",
    "[1]:https://en.wikipedia.org/wiki/Bayesian_network\n",
    "[2]:https://ipvs.informatik.uni-stuttgart.de/mlr/marc/teaching/15-MachineLearning/07-graphicalModels.pdf"
   ]
  },
  {
   "cell_type": "markdown",
   "metadata": {},
   "source": [
    "## pomegranate for Bayesian Network in Python"
   ]
  },
  {
   "cell_type": "code",
   "execution_count": 2,
   "metadata": {},
   "outputs": [],
   "source": [
    "# Build Bayesian Networks\n",
    "\n",
    "from pomegranate import *\n",
    "\n",
    "rain = DiscreteDistribution({'T': 0.2, 'F': 0.8})\n",
    "sprinkler=ConditionalProbabilityTable([['F','T',0.4],\n",
    "                                      ['F','F',0.6],\n",
    "                                      ['T','T',0.01],\n",
    "                                      ['T','F',0.99]\n",
    "                                     ],[rain])\n",
    "grasswater=ConditionalProbabilityTable([['F','F','T',0.0],\n",
    "                                        ['F','F','F',1.0],\n",
    "                                        ['F','T','T',0.8],\n",
    "                                        ['F','T','F',0.2],\n",
    "                                        ['T','F','T',0.9],\n",
    "                                        ['T','F','F',0.1],\n",
    "                                        ['T','T','T',0.99],\n",
    "                                        ['T','T','F',0.01]\n",
    "                                     ],[sprinkler,rain])\n",
    "\n",
    "s1 = Node(rain, name=\"rain\")\n",
    "s2 = Node(sprinkler, name=\"sprinkler\")\n",
    "s3 = Node(grasswater, name=\"grasswater\")\n",
    "\n",
    "model = BayesianNetwork(\"RSG\")\n",
    "model.add_states(s1, s2, s3)\n",
    "model.add_edge(s1, s2)\n",
    "model.add_edge(s1, s3)\n",
    "model.add_edge(s2, s3)\n",
    "model.bake()"
   ]
  },
  {
   "cell_type": "code",
   "execution_count": 3,
   "metadata": {},
   "outputs": [
    {
     "name": "stdout",
     "output_type": "stream",
     "text": [
      "0.0019800000000000013\n"
     ]
    }
   ],
   "source": [
    "# calculate joint probability of p('T','T','T')\n",
    "print(model.probability([['T', 'T', 'T']]))"
   ]
  },
  {
   "cell_type": "code",
   "execution_count": 4,
   "metadata": {},
   "outputs": [
    {
     "name": "stdout",
     "output_type": "stream",
     "text": [
      "[array(['F', 'F', 'F'], dtype=object)]\n"
     ]
    }
   ],
   "source": [
    "#predict the value of grasswater given the false of the others\n",
    "print(model.predict([['F','F',None]]))"
   ]
  },
  {
   "cell_type": "code",
   "execution_count": 5,
   "metadata": {},
   "outputs": [
    {
     "name": "stdout",
     "output_type": "stream",
     "text": [
      "rain\tT\n",
      "sprinkler\t{\n",
      "    \"class\" : \"Distribution\",\n",
      "    \"dtype\" : \"str\",\n",
      "    \"name\" : \"DiscreteDistribution\",\n",
      "    \"parameters\" : [\n",
      "        {\n",
      "            \"T\" : 0.012345679012346221,\n",
      "            \"F\" : 0.9876543209876538\n",
      "        }\n",
      "    ],\n",
      "    \"frozen\" : false\n",
      "}\n",
      "grasswater\tT\n"
     ]
    }
   ],
   "source": [
    "# predict the probaility values of sprinkler given rain and grasswater are trues.\n",
    "observations = { 'rain' : 'T','grasswater' : 'T' }\n",
    "beliefs = map( str, model.predict_proba( observations ) )\n",
    "print(\"\\n\".join( \"{}\\t{}\".format( state.name, belief ) for state, belief in zip( model.states, beliefs ) ))"
   ]
  },
  {
   "cell_type": "markdown",
   "metadata": {},
   "source": [
    "# [Other BN package](https://docs.pymc.io/en/v3/)"
   ]
  },
  {
   "cell_type": "markdown",
   "metadata": {},
   "source": [
    "# [Another Example][1]\n",
    "\n",
    "\n",
    "Watch [this video][2]\n",
    "\n",
    "[1]:http://staff.utia.cas.cz/vomlel/mh-puzzle.html\n",
    "[2]:https://www.youtube.com/watch?v=SkC8S3wuIfg"
   ]
  }
 ],
 "metadata": {
  "kernelspec": {
   "display_name": "Python 3 (ipykernel)",
   "language": "python",
   "name": "python3"
  },
  "language_info": {
   "codemirror_mode": {
    "name": "ipython",
    "version": 3
   },
   "file_extension": ".py",
   "mimetype": "text/x-python",
   "name": "python",
   "nbconvert_exporter": "python",
   "pygments_lexer": "ipython3",
   "version": "3.9.6"
  },
  "toc": {
   "base_numbering": 1,
   "nav_menu": {},
   "number_sections": true,
   "sideBar": true,
   "skip_h1_title": false,
   "title_cell": "Table of Contents",
   "title_sidebar": "Contents",
   "toc_cell": false,
   "toc_position": {},
   "toc_section_display": true,
   "toc_window_display": false
  }
 },
 "nbformat": 4,
 "nbformat_minor": 2
}
