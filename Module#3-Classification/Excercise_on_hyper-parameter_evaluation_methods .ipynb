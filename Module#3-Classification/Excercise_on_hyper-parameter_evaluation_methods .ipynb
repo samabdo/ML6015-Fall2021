{
 "cells": [
  {
   "cell_type": "markdown",
   "id": "d2a920aa",
   "metadata": {},
   "source": [
    "# Resources\n",
    "\n",
    "1. [Explainable AI (XAI) with SHAP -Multi-Class Classification Problem](https://towardsdatascience.com/explainable-ai-xai-with-shap-multi-class-classification-problem-64dd30f97cea)\n",
    "2. [Nested Kfold](https://machinelearningmastery.com/nested-cross-validation-for-machine-learning-with-python/)"
   ]
  },
  {
   "cell_type": "code",
   "execution_count": null,
   "id": "60b82bf5",
   "metadata": {},
   "outputs": [],
   "source": [
    "import numpy as np\n",
    "import pandas as pd\n",
    "import shap\n",
    "from sklearn.datasets import load_breast_cancer\n",
    "from sklearn.datasets import make_classification\n",
    "from sklearn.model_selection import StratifiedKFold, train_test_split\n",
    "from sklearn.model_selection import RandomizedSearchCV\n",
    "from sklearn.ensemble import RandomForestClassifier\n",
    "from xgboost import XGBClassifier\n",
    "from sklearn.metrics import f1_score\n",
    "from sklearn.utils import resample\n",
    "\n",
    "shap.initjs()"
   ]
  },
  {
   "cell_type": "markdown",
   "id": "4c425797",
   "metadata": {},
   "source": [
    "# Shap and binary_classification"
   ]
  },
  {
   "cell_type": "code",
   "execution_count": null,
   "id": "66fbe427",
   "metadata": {},
   "outputs": [],
   "source": [
    " data = load_breast_cancer()\n",
    "X = pd.DataFrame(data['data'], columns=data['feature_names'])\n",
    "y = pd.Series(data['target'])"
   ]
  },
  {
   "cell_type": "code",
   "execution_count": null,
   "id": "ad6e1c77",
   "metadata": {},
   "outputs": [],
   "source": [
    "X.columns"
   ]
  },
  {
   "cell_type": "code",
   "execution_count": null,
   "id": "972d47aa",
   "metadata": {},
   "outputs": [],
   "source": [
    "y.value_counts()"
   ]
  },
  {
   "cell_type": "code",
   "execution_count": null,
   "id": "c3fc4c30",
   "metadata": {},
   "outputs": [],
   "source": [
    "y=y.replace(0, 'class_0')"
   ]
  },
  {
   "cell_type": "code",
   "execution_count": null,
   "id": "5bce37bf",
   "metadata": {},
   "outputs": [],
   "source": [
    "y=y.replace(1, 'class_1')"
   ]
  },
  {
   "cell_type": "code",
   "execution_count": null,
   "id": "9d838d8c",
   "metadata": {},
   "outputs": [],
   "source": [
    "y.value_counts()"
   ]
  },
  {
   "cell_type": "code",
   "execution_count": null,
   "id": "4c4a5826",
   "metadata": {},
   "outputs": [],
   "source": [
    "rf = RandomForestClassifier(n_estimators=100)\n",
    "X_train, X_test, y_train, y_test = train_test_split(X, y, test_size=0.25, random_state=12)\n",
    "rf.fit(X_train, y_train)"
   ]
  },
  {
   "cell_type": "code",
   "execution_count": null,
   "id": "1f081295",
   "metadata": {},
   "outputs": [],
   "source": [
    "# explain the model's predictions using SHAP\n",
    "explainer = shap.Explainer(rf,X_train)\n",
    "shap_values = explainer.shap_values(X_train)"
   ]
  },
  {
   "cell_type": "markdown",
   "id": "f0167e6b",
   "metadata": {},
   "source": [
    "## SHAP Summary Plot"
   ]
  },
  {
   "cell_type": "code",
   "execution_count": null,
   "id": "43b56ecd",
   "metadata": {},
   "outputs": [],
   "source": [
    "# visualize the general contribution.\n",
    "shap.summary_plot(shap_values, X.values, max_display=30,plot_type=\"bar\", feature_names = X.columns)"
   ]
  },
  {
   "cell_type": "code",
   "execution_count": null,
   "id": "bbdffa38",
   "metadata": {},
   "outputs": [],
   "source": [
    "#class_1\n",
    "shap.summary_plot(shap_values[0],X_train.values, feature_names = X.columns,max_display=30)"
   ]
  },
  {
   "cell_type": "code",
   "execution_count": null,
   "id": "880ef244",
   "metadata": {},
   "outputs": [],
   "source": [
    "#class_0\n",
    "shap.summary_plot(shap_values[1], X_train.values, feature_names = X.columns,max_display=30)"
   ]
  },
  {
   "cell_type": "markdown",
   "id": "5cbccc6b",
   "metadata": {},
   "source": [
    "## SHAP Dependence Plot"
   ]
  },
  {
   "cell_type": "code",
   "execution_count": null,
   "id": "be6da4cf",
   "metadata": {},
   "outputs": [],
   "source": [
    "shap.dependence_plot(0,shap_values[0], X_train.values, interaction_index=\"worst perimeter\",feature_names=X.columns)"
   ]
  },
  {
   "cell_type": "code",
   "execution_count": null,
   "id": "3e588d5d",
   "metadata": {},
   "outputs": [],
   "source": [
    "shap.dependence_plot(0,shap_values[1], X_train.values,  interaction_index=\"worst perimeter\", feature_names=X.columns)"
   ]
  },
  {
   "cell_type": "markdown",
   "id": "5a8649b6",
   "metadata": {},
   "source": [
    "## SHAP Force plot"
   ]
  },
  {
   "cell_type": "code",
   "execution_count": null,
   "id": "e42e5242",
   "metadata": {},
   "outputs": [],
   "source": [
    "i=1\n",
    "shap.force_plot(explainer.expected_value[0], shap_values[0][i], X_train.values[i], feature_names = X.columns)"
   ]
  },
  {
   "cell_type": "markdown",
   "id": "753e0d12",
   "metadata": {},
   "source": [
    "## SHAP waterfall plot"
   ]
  },
  {
   "cell_type": "code",
   "execution_count": null,
   "id": "a30d67e7",
   "metadata": {},
   "outputs": [],
   "source": [
    "row = 200\n",
    "shap.waterfall_plot(shap.Explanation(values=shap_values[1][row], \n",
    "                                              base_values=explainer.expected_value[1], data=X_train.iloc[row],  \n",
    "                                         feature_names=X_train.columns.tolist()))"
   ]
  },
  {
   "cell_type": "markdown",
   "id": "4d90d120",
   "metadata": {},
   "source": [
    "# Nested Kfold"
   ]
  },
  {
   "cell_type": "code",
   "execution_count": null,
   "id": "ae499ede",
   "metadata": {},
   "outputs": [],
   "source": [
    "help(make_classification)"
   ]
  },
  {
   "cell_type": "code",
   "execution_count": null,
   "id": "5b7987f8",
   "metadata": {},
   "outputs": [],
   "source": [
    "help(RandomizedSearchCV)"
   ]
  },
  {
   "cell_type": "code",
   "execution_count": null,
   "id": "12c4c240",
   "metadata": {},
   "outputs": [],
   "source": [
    "X, y = make_classification(n_samples=1000, n_classes=2,n_features=20, random_state=1, n_informative=10, n_redundant=10)\n",
    "x_frame=pd.DataFrame(X)\n",
    "y_frame=pd.DataFrame(y)"
   ]
  },
  {
   "cell_type": "code",
   "execution_count": null,
   "id": "414005fd",
   "metadata": {},
   "outputs": [],
   "source": [
    "y_frame.value_counts()"
   ]
  },
  {
   "cell_type": "code",
   "execution_count": null,
   "id": "0a97f63a",
   "metadata": {},
   "outputs": [],
   "source": [
    "x_frame.columns"
   ]
  },
  {
   "cell_type": "code",
   "execution_count": null,
   "id": "21adcdef",
   "metadata": {},
   "outputs": [],
   "source": [
    "x_frame"
   ]
  },
  {
   "cell_type": "code",
   "execution_count": null,
   "id": "e508edc6",
   "metadata": {},
   "outputs": [],
   "source": [
    "cv_outer = StratifiedKFold(n_splits=10, shuffle=True, random_state=1)\n",
    "cv_inner = StratifiedKFold(n_splits=3, shuffle=True, random_state=1)"
   ]
  },
  {
   "cell_type": "code",
   "execution_count": null,
   "id": "701017b8",
   "metadata": {},
   "outputs": [],
   "source": [
    "outer_results = list()\n",
    "for train_ix, test_ix in cv_outer.split(x_frame,y_frame):\n",
    "    # split data\n",
    "    X_train, X_test = x_frame.iloc[train_ix, :], x_frame.iloc[test_ix, :]\n",
    "    y_train, y_test = y_frame.iloc[train_ix], y_frame.iloc[test_ix]\n",
    "    model = RandomForestClassifier(random_state=1)\n",
    "    space = dict()\n",
    "    space['n_estimators'] = [10, 100, 500]\n",
    "    space['max_features'] = [2, 4, 6,8]\n",
    "    search = RandomizedSearchCV(model, space, scoring='f1', cv=cv_inner, refit=True) #Refit on the whole training data after the end.\n",
    "    result = search.fit(X_train, y_train.values.ravel())\n",
    "    best_model = result.best_estimator_\n",
    "    yhat = best_model.predict(X_test)\n",
    "    f1score=f1_score(y_test,yhat)\n",
    "    outer_results.append(f1score)\n",
    "    print('inner test: f1_score=%.3f, est=%.3f, cfg=%s' % (f1score, result.best_score_, result.best_params_))\n",
    "# summarize the estimated performance of the model\n",
    "print('outer test: f1-score mean: %.3f (std: %.3f)' % (np.mean(outer_results), np.std(outer_results)))\n",
    "    "
   ]
  },
  {
   "cell_type": "markdown",
   "id": "4049cd78",
   "metadata": {},
   "source": [
    "# Bootstrapping Splitting"
   ]
  },
  {
   "cell_type": "code",
   "execution_count": null,
   "id": "dc45696f",
   "metadata": {},
   "outputs": [],
   "source": [
    "Boot_splits=[]\n",
    "for i in range(0,10):\n",
    "    Index=range(0,len(x_frame))\n",
    "    X_inbag, Y_inbag = resample(x_frame, y_frame, replace=True, n_samples=len(Index), random_state=i)\n",
    "\n",
    "    #find the row index that is not in the in bag to put in out bag\n",
    "    out_index = [y for y in x_frame.index if y not in X_inbag.index]\n",
    "\n",
    "    X_outbag = x_frame.iloc[out_index]\n",
    "    Y_outbag = y_frame.iloc[out_index]\n",
    "\n",
    "    #add them all to one list\n",
    "    Boot_splits.append([X_inbag, Y_inbag, X_outbag, Y_outbag])"
   ]
  },
  {
   "cell_type": "code",
   "execution_count": null,
   "id": "6d49941b",
   "metadata": {},
   "outputs": [],
   "source": [
    "Boot_splits[0][0]"
   ]
  },
  {
   "cell_type": "code",
   "execution_count": null,
   "id": "39a552f4",
   "metadata": {},
   "outputs": [],
   "source": [
    "Boot_splits[0][1]"
   ]
  },
  {
   "cell_type": "code",
   "execution_count": null,
   "id": "f34afb19",
   "metadata": {},
   "outputs": [],
   "source": [
    "SKF = StratifiedKFold(n_splits=3, shuffle=True, random_state=1)"
   ]
  },
  {
   "cell_type": "code",
   "execution_count": null,
   "id": "68d0a560",
   "metadata": {},
   "outputs": [],
   "source": [
    "outer_results = list()\n",
    "for i in range(len(Boot_splits)):\n",
    "    print('Iteration --> '+str(i))\n",
    "    model = RandomForestClassifier(random_state=1)\n",
    "    space = dict()\n",
    "    space['n_estimators'] = [10, 100, 500]\n",
    "    space['max_features'] = [2, 4, 6,8]\n",
    "    search = RandomizedSearchCV(model, space, scoring='f1', cv=SKF, refit=True) #Refit on the whole training data after the end.\n",
    "    result = search.fit(Boot_splits[i][0], Boot_splits[i][1].values.ravel())\n",
    "    best_model = result.best_estimator_\n",
    "    yhat = best_model.predict(Boot_splits[i][2])\n",
    "    f1score=f1_score(Boot_splits[i][3],yhat)\n",
    "    outer_results.append(f1score)\n",
    "    print('each bootstrap : f1_score=%.3f, est=%.3f, cfg=%s' % (f1score, result.best_score_, result.best_params_))\n",
    "# summarize the estimated performance of the model\n",
    "print('average bootstraps: f1-score mean: %.3f (std: %.3f)' % (np.mean(outer_results), np.std(outer_results)))\n",
    "   \n",
    "    "
   ]
  },
  {
   "cell_type": "markdown",
   "id": "bc9c26cf",
   "metadata": {},
   "source": [
    "# [XGBoost hyper-parameters](https://xgboost.readthedocs.io/en/latest/parameter.html)\n",
    "\n",
    "## [Example 1](https://towardsdatascience.com/xgboost-fine-tune-and-optimize-your-model-23d996fab663)\n",
    "## [Example 2](https://www.analyticsvidhya.com/blog/2016/03/complete-guide-parameter-tuning-xgboost-with-codes-python/)"
   ]
  },
  {
   "cell_type": "code",
   "execution_count": null,
   "id": "fb4ea186",
   "metadata": {},
   "outputs": [],
   "source": [
    "\"\"\"XGBoost_params = { 'max_depth': [3,6,10],\n",
    "                  'learning_rate': [0.01, 0.05, 0.1],\n",
    "                  'n_estimators': [100, 500, 1000],\n",
    "                  'colsample_bytree': [0.3, 0.7],\n",
    "                  'reg_alpha':[1e-5, 1e-2, 0.1, 1, 100],\n",
    "                  'reg_lambda':[0, 0.001, 0.005, 0.01, 0.05]}\n",
    "\"\"\"\""
   ]
  },
  {
   "cell_type": "code",
   "execution_count": null,
   "id": "619812db",
   "metadata": {},
   "outputs": [],
   "source": [
    "#Example Using Nested XGBoost\n",
    "for train_ix, test_ix in cv_outer.split(x_frame,y_frame):\n",
    "    # split data\n",
    "    X_train, X_test = x_frame.iloc[train_ix, :], x_frame.iloc[test_ix, :]\n",
    "    y_train, y_test = y_frame.iloc[train_ix], y_frame.iloc[test_ix]\n",
    "    model = XGBClassifier(random_state=1,objective='binary:hinge',use_label_encoder =False)\n",
    "    space = XGBoost_params\n",
    "    search = RandomizedSearchCV(model, space, scoring='f1', cv=cv_inner, refit=True) #Refit on the whole training data after the end.\n",
    "    result = search.fit(X_train, y_train.values.ravel())\n",
    "    best_model = result.best_estimator_\n",
    "    yhat = best_model.predict(X_test)\n",
    "    f1score=f1_score(y_test,yhat)\n",
    "    outer_results.append(f1score)\n",
    "    print('inner test: f1_score=%.3f, est=%.3f, cfg=%s' % (f1score, result.best_score_, result.best_params_))\n",
    "# summarize the estimated performance of the model\n",
    "print('outer test: f1-score mean: %.3f (std: %.3f)' % (np.mean(outer_results), np.std(outer_results)))\n",
    "    "
   ]
  }
 ],
 "metadata": {
  "kernelspec": {
   "display_name": "Python 3 (ipykernel)",
   "language": "python",
   "name": "python3"
  },
  "language_info": {
   "codemirror_mode": {
    "name": "ipython",
    "version": 3
   },
   "file_extension": ".py",
   "mimetype": "text/x-python",
   "name": "python",
   "nbconvert_exporter": "python",
   "pygments_lexer": "ipython3",
   "version": "3.9.6"
  },
  "toc": {
   "base_numbering": 1,
   "nav_menu": {},
   "number_sections": true,
   "sideBar": true,
   "skip_h1_title": false,
   "title_cell": "Table of Contents",
   "title_sidebar": "Contents",
   "toc_cell": false,
   "toc_position": {},
   "toc_section_display": true,
   "toc_window_display": true
  }
 },
 "nbformat": 4,
 "nbformat_minor": 5
}
